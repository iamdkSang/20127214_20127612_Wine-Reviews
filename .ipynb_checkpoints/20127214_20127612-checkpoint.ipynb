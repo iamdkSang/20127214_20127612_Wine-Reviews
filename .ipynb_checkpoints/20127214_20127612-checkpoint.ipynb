{
 "cells": [
  {
   "cell_type": "markdown",
   "metadata": {},
   "source": [
    "# **Final Project**\n",
    "\n",
    "- Group: 7\n",
    "\n",
    "- Member: \n",
    "    + 20127214: Nguyễn Trương Minh Khôi\n",
    "    + 20127612: Đỗ Khánh Sang"
   ]
  },
  {
   "cell_type": "markdown",
   "metadata": {},
   "source": [
    "---"
   ]
  },
  {
   "cell_type": "markdown",
   "metadata": {},
   "source": [
    "## **Import**"
   ]
  },
  {
   "cell_type": "code",
   "execution_count": 1,
   "metadata": {},
   "outputs": [
    {
     "data": {
      "text/plain": [
       "'/Users/sang/opt/miniconda3/envs/min_ds-env/bin/python'"
      ]
     },
     "execution_count": 1,
     "metadata": {},
     "output_type": "execute_result"
    }
   ],
   "source": [
    "import sys\n",
    "sys.executable"
   ]
  },
  {
   "cell_type": "code",
   "execution_count": 2,
   "metadata": {},
   "outputs": [],
   "source": [
    "import pandas as pd\n",
    "import numpy as np\n",
    "import matplotlib.pyplot as plt\n",
    "import seaborn as sns\n",
    "import re\n",
    "from datetime import datetime, timedelta\n",
    "from collections import Counter\n",
    "from scipy.stats import norm"
   ]
  },
  {
   "cell_type": "markdown",
   "metadata": {},
   "source": [
    "---"
   ]
  },
  {
   "cell_type": "markdown",
   "metadata": {},
   "source": [
    "## **1.Collecting Data**"
   ]
  },
  {
   "cell_type": "markdown",
   "metadata": {},
   "source": [
    "### **1.What subject is your data about?**"
   ]
  },
  {
   "cell_type": "markdown",
   "metadata": {},
   "source": [
    "Main subject of my data is about reviews all kind of wine around the world such as: the number of points WineEnthusiast rated the wine, the country that the wine is from, the winery that made the wine, the cost for a bottle of the wine,…"
   ]
  },
  {
   "cell_type": "markdown",
   "metadata": {},
   "source": [
    "### **2.What is the source of your data?**"
   ]
  },
  {
   "cell_type": "markdown",
   "metadata": {},
   "source": [
    "My team take dataset from [Kaggle](https://www.kaggle.com/)"
   ]
  },
  {
   "cell_type": "markdown",
   "metadata": {},
   "source": [
    "### **3.Do authors of this data allow you to use like this? You can check the data license**"
   ]
  },
  {
   "cell_type": "markdown",
   "metadata": {},
   "source": [
    "- The authors totally agree me to use this data because this is a public dataset on kaggle and I can download it\n",
    "- Data license: `CC BY-NC-SA 4.0`"
   ]
  },
  {
   "cell_type": "markdown",
   "metadata": {},
   "source": [
    "### **4.How did authors collect data?**"
   ]
  },
  {
   "cell_type": "markdown",
   "metadata": {},
   "source": [
    "The data was scraped from `WineEnthusiast` during the week of June 15th, 2017. The code for the scraper can be found [here](https://github.com/zackthoutt/wine-deep-learning) if you have any more specific questions about data collection that I didn't address."
   ]
  },
  {
   "cell_type": "markdown",
   "metadata": {},
   "source": [
    "## 2.Exploring Data "
   ]
  },
  {
   "cell_type": "markdown",
   "metadata": {},
   "source": [
    "### **1. Load data**"
   ]
  },
  {
   "cell_type": "markdown",
   "metadata": {},
   "source": [
    "First, read data file \"winemag-data-130k-v2.csv\" from folder `Data` and save to DataFrame `wine_df`."
   ]
  },
  {
   "cell_type": "code",
   "execution_count": 3,
   "metadata": {},
   "outputs": [
    {
     "data": {
      "text/html": [
       "<div>\n",
       "<style scoped>\n",
       "    .dataframe tbody tr th:only-of-type {\n",
       "        vertical-align: middle;\n",
       "    }\n",
       "\n",
       "    .dataframe tbody tr th {\n",
       "        vertical-align: top;\n",
       "    }\n",
       "\n",
       "    .dataframe thead th {\n",
       "        text-align: right;\n",
       "    }\n",
       "</style>\n",
       "<table border=\"1\" class=\"dataframe\">\n",
       "  <thead>\n",
       "    <tr style=\"text-align: right;\">\n",
       "      <th></th>\n",
       "      <th>country</th>\n",
       "      <th>description</th>\n",
       "      <th>designation</th>\n",
       "      <th>points</th>\n",
       "      <th>price</th>\n",
       "      <th>province</th>\n",
       "      <th>region_1</th>\n",
       "      <th>region_2</th>\n",
       "      <th>taster_name</th>\n",
       "      <th>taster_twitter_handle</th>\n",
       "      <th>title</th>\n",
       "      <th>variety</th>\n",
       "      <th>winery</th>\n",
       "    </tr>\n",
       "  </thead>\n",
       "  <tbody>\n",
       "    <tr>\n",
       "      <th>0</th>\n",
       "      <td>Italy</td>\n",
       "      <td>Aromas include tropical fruit, broom, brimston...</td>\n",
       "      <td>Vulkà Bianco</td>\n",
       "      <td>87</td>\n",
       "      <td>NaN</td>\n",
       "      <td>Sicily &amp; Sardinia</td>\n",
       "      <td>Etna</td>\n",
       "      <td>NaN</td>\n",
       "      <td>Kerin O’Keefe</td>\n",
       "      <td>@kerinokeefe</td>\n",
       "      <td>Nicosia 2013 Vulkà Bianco  (Etna)</td>\n",
       "      <td>White Blend</td>\n",
       "      <td>Nicosia</td>\n",
       "    </tr>\n",
       "    <tr>\n",
       "      <th>1</th>\n",
       "      <td>Portugal</td>\n",
       "      <td>This is ripe and fruity, a wine that is smooth...</td>\n",
       "      <td>Avidagos</td>\n",
       "      <td>87</td>\n",
       "      <td>15.0</td>\n",
       "      <td>Douro</td>\n",
       "      <td>NaN</td>\n",
       "      <td>NaN</td>\n",
       "      <td>Roger Voss</td>\n",
       "      <td>@vossroger</td>\n",
       "      <td>Quinta dos Avidagos 2011 Avidagos Red (Douro)</td>\n",
       "      <td>Portuguese Red</td>\n",
       "      <td>Quinta dos Avidagos</td>\n",
       "    </tr>\n",
       "    <tr>\n",
       "      <th>2</th>\n",
       "      <td>US</td>\n",
       "      <td>Tart and snappy, the flavors of lime flesh and...</td>\n",
       "      <td>NaN</td>\n",
       "      <td>87</td>\n",
       "      <td>14.0</td>\n",
       "      <td>Oregon</td>\n",
       "      <td>Willamette Valley</td>\n",
       "      <td>Willamette Valley</td>\n",
       "      <td>Paul Gregutt</td>\n",
       "      <td>@paulgwine</td>\n",
       "      <td>Rainstorm 2013 Pinot Gris (Willamette Valley)</td>\n",
       "      <td>Pinot Gris</td>\n",
       "      <td>Rainstorm</td>\n",
       "    </tr>\n",
       "    <tr>\n",
       "      <th>3</th>\n",
       "      <td>US</td>\n",
       "      <td>Pineapple rind, lemon pith and orange blossom ...</td>\n",
       "      <td>Reserve Late Harvest</td>\n",
       "      <td>87</td>\n",
       "      <td>13.0</td>\n",
       "      <td>Michigan</td>\n",
       "      <td>Lake Michigan Shore</td>\n",
       "      <td>NaN</td>\n",
       "      <td>Alexander Peartree</td>\n",
       "      <td>NaN</td>\n",
       "      <td>St. Julian 2013 Reserve Late Harvest Riesling ...</td>\n",
       "      <td>Riesling</td>\n",
       "      <td>St. Julian</td>\n",
       "    </tr>\n",
       "    <tr>\n",
       "      <th>4</th>\n",
       "      <td>US</td>\n",
       "      <td>Much like the regular bottling from 2012, this...</td>\n",
       "      <td>Vintner's Reserve Wild Child Block</td>\n",
       "      <td>87</td>\n",
       "      <td>65.0</td>\n",
       "      <td>Oregon</td>\n",
       "      <td>Willamette Valley</td>\n",
       "      <td>Willamette Valley</td>\n",
       "      <td>Paul Gregutt</td>\n",
       "      <td>@paulgwine</td>\n",
       "      <td>Sweet Cheeks 2012 Vintner's Reserve Wild Child...</td>\n",
       "      <td>Pinot Noir</td>\n",
       "      <td>Sweet Cheeks</td>\n",
       "    </tr>\n",
       "  </tbody>\n",
       "</table>\n",
       "</div>"
      ],
      "text/plain": [
       "    country                                        description  \\\n",
       "0     Italy  Aromas include tropical fruit, broom, brimston...   \n",
       "1  Portugal  This is ripe and fruity, a wine that is smooth...   \n",
       "2        US  Tart and snappy, the flavors of lime flesh and...   \n",
       "3        US  Pineapple rind, lemon pith and orange blossom ...   \n",
       "4        US  Much like the regular bottling from 2012, this...   \n",
       "\n",
       "                          designation  points  price           province  \\\n",
       "0                        Vulkà Bianco      87    NaN  Sicily & Sardinia   \n",
       "1                            Avidagos      87   15.0              Douro   \n",
       "2                                 NaN      87   14.0             Oregon   \n",
       "3                Reserve Late Harvest      87   13.0           Michigan   \n",
       "4  Vintner's Reserve Wild Child Block      87   65.0             Oregon   \n",
       "\n",
       "              region_1           region_2         taster_name  \\\n",
       "0                 Etna                NaN       Kerin O’Keefe   \n",
       "1                  NaN                NaN          Roger Voss   \n",
       "2    Willamette Valley  Willamette Valley        Paul Gregutt   \n",
       "3  Lake Michigan Shore                NaN  Alexander Peartree   \n",
       "4    Willamette Valley  Willamette Valley        Paul Gregutt   \n",
       "\n",
       "  taster_twitter_handle                                              title  \\\n",
       "0          @kerinokeefe                  Nicosia 2013 Vulkà Bianco  (Etna)   \n",
       "1            @vossroger      Quinta dos Avidagos 2011 Avidagos Red (Douro)   \n",
       "2           @paulgwine       Rainstorm 2013 Pinot Gris (Willamette Valley)   \n",
       "3                   NaN  St. Julian 2013 Reserve Late Harvest Riesling ...   \n",
       "4           @paulgwine   Sweet Cheeks 2012 Vintner's Reserve Wild Child...   \n",
       "\n",
       "          variety               winery  \n",
       "0     White Blend              Nicosia  \n",
       "1  Portuguese Red  Quinta dos Avidagos  \n",
       "2      Pinot Gris            Rainstorm  \n",
       "3        Riesling           St. Julian  \n",
       "4      Pinot Noir         Sweet Cheeks  "
      ]
     },
     "execution_count": 3,
     "metadata": {},
     "output_type": "execute_result"
    }
   ],
   "source": [
    "# load data\n",
    "wine_df = pd.read_csv('Data/winemag-data-130k-v2.csv', index_col = 0)\n",
    "wine_df.head()"
   ]
  },
  {
   "cell_type": "markdown",
   "metadata": {},
   "source": [
    "### **2. How many rows and how many columns?**"
   ]
  },
  {
   "cell_type": "markdown",
   "metadata": {},
   "source": [
    "Next, get the number of rows and columns of the DataFrame `wine_df` and store it in `num_rows` and `num_cols` variables."
   ]
  },
  {
   "cell_type": "code",
   "execution_count": 4,
   "metadata": {},
   "outputs": [
    {
     "name": "stdout",
     "output_type": "stream",
     "text": [
      "Number of rows: 129971\n",
      "Number of columns 13\n"
     ]
    }
   ],
   "source": [
    "num_rows = len(wine_df)\n",
    "num_columns = len(wine_df.columns)\n",
    "print('Number of rows:', num_rows)\n",
    "print('Number of columns', num_columns)"
   ]
  },
  {
   "cell_type": "markdown",
   "metadata": {},
   "source": [
    "### **3. What is the meaning of each row?**"
   ]
  },
  {
   "cell_type": "markdown",
   "metadata": {},
   "source": [
    "**Each row provides diferent information such as price, country, winery,... about different wines**"
   ]
  },
  {
   "cell_type": "markdown",
   "metadata": {},
   "source": [
    "### **4. Are there duplicated rows?**"
   ]
  },
  {
   "cell_type": "markdown",
   "metadata": {},
   "source": [
    "We are going to check that and save the result into `num_duplicated_rows`. The value of this variable is `greater than zero` if the data is duplicated and vice versa."
   ]
  },
  {
   "cell_type": "code",
   "execution_count": 5,
   "metadata": {},
   "outputs": [
    {
     "name": "stdout",
     "output_type": "stream",
     "text": [
      "Duplicated: 9983\n"
     ]
    }
   ],
   "source": [
    "num_duplicated_rows = len(wine_df) - len(wine_df.drop_duplicates())\n",
    "print('Duplicated:', num_duplicated_rows)"
   ]
  },
  {
   "cell_type": "markdown",
   "metadata": {},
   "source": [
    "We can see the data is duplicated. Now, let's see that"
   ]
  },
  {
   "cell_type": "code",
   "execution_count": 6,
   "metadata": {},
   "outputs": [
    {
     "data": {
      "text/html": [
       "<div>\n",
       "<style scoped>\n",
       "    .dataframe tbody tr th:only-of-type {\n",
       "        vertical-align: middle;\n",
       "    }\n",
       "\n",
       "    .dataframe tbody tr th {\n",
       "        vertical-align: top;\n",
       "    }\n",
       "\n",
       "    .dataframe thead th {\n",
       "        text-align: right;\n",
       "    }\n",
       "</style>\n",
       "<table border=\"1\" class=\"dataframe\">\n",
       "  <thead>\n",
       "    <tr style=\"text-align: right;\">\n",
       "      <th></th>\n",
       "      <th>country</th>\n",
       "      <th>description</th>\n",
       "      <th>designation</th>\n",
       "      <th>points</th>\n",
       "      <th>price</th>\n",
       "      <th>province</th>\n",
       "      <th>region_1</th>\n",
       "      <th>region_2</th>\n",
       "      <th>taster_name</th>\n",
       "      <th>taster_twitter_handle</th>\n",
       "      <th>title</th>\n",
       "      <th>variety</th>\n",
       "      <th>winery</th>\n",
       "    </tr>\n",
       "  </thead>\n",
       "  <tbody>\n",
       "    <tr>\n",
       "      <th>2408</th>\n",
       "      <td>US</td>\n",
       "      <td>This is weighty, creamy and medium to full in ...</td>\n",
       "      <td>NaN</td>\n",
       "      <td>85</td>\n",
       "      <td>14.0</td>\n",
       "      <td>California</td>\n",
       "      <td>North Coast</td>\n",
       "      <td>North Coast</td>\n",
       "      <td>Virginie Boone</td>\n",
       "      <td>@vboone</td>\n",
       "      <td>Souverain 2010 Chardonnay (North Coast)</td>\n",
       "      <td>Chardonnay</td>\n",
       "      <td>Souverain</td>\n",
       "    </tr>\n",
       "    <tr>\n",
       "      <th>2409</th>\n",
       "      <td>Italy</td>\n",
       "      <td>There's a touch of toasted almond at the start...</td>\n",
       "      <td>Sallier de la Tour</td>\n",
       "      <td>85</td>\n",
       "      <td>13.0</td>\n",
       "      <td>Sicily &amp; Sardinia</td>\n",
       "      <td>Sicilia</td>\n",
       "      <td>NaN</td>\n",
       "      <td>NaN</td>\n",
       "      <td>NaN</td>\n",
       "      <td>Tasca d'Almerita 2011 Sallier de la Tour Grill...</td>\n",
       "      <td>Grillo</td>\n",
       "      <td>Tasca d'Almerita</td>\n",
       "    </tr>\n",
       "    <tr>\n",
       "      <th>2410</th>\n",
       "      <td>Chile</td>\n",
       "      <td>Lightly herbal strawberry and raspberry aromas...</td>\n",
       "      <td>Reserve</td>\n",
       "      <td>85</td>\n",
       "      <td>13.0</td>\n",
       "      <td>Maipo Valley</td>\n",
       "      <td>NaN</td>\n",
       "      <td>NaN</td>\n",
       "      <td>Michael Schachner</td>\n",
       "      <td>@wineschach</td>\n",
       "      <td>Tres Palacios 2011 Reserve Pinot Noir (Maipo V...</td>\n",
       "      <td>Pinot Noir</td>\n",
       "      <td>Tres Palacios</td>\n",
       "    </tr>\n",
       "    <tr>\n",
       "      <th>2412</th>\n",
       "      <td>Italy</td>\n",
       "      <td>The Monica grape often shows a rustic or raw q...</td>\n",
       "      <td>Dolia</td>\n",
       "      <td>85</td>\n",
       "      <td>14.0</td>\n",
       "      <td>Sicily &amp; Sardinia</td>\n",
       "      <td>Monica di Sardegna</td>\n",
       "      <td>NaN</td>\n",
       "      <td>NaN</td>\n",
       "      <td>NaN</td>\n",
       "      <td>Cantine di Dolianova 2010 Dolia  (Monica di Sa...</td>\n",
       "      <td>Monica</td>\n",
       "      <td>Cantine di Dolianova</td>\n",
       "    </tr>\n",
       "    <tr>\n",
       "      <th>2413</th>\n",
       "      <td>France</td>\n",
       "      <td>Fruity and lightly herbaceous, this has fine t...</td>\n",
       "      <td>La Fleur d'Amélie</td>\n",
       "      <td>85</td>\n",
       "      <td>15.0</td>\n",
       "      <td>Bordeaux</td>\n",
       "      <td>Bordeaux Blanc</td>\n",
       "      <td>NaN</td>\n",
       "      <td>Roger Voss</td>\n",
       "      <td>@vossroger</td>\n",
       "      <td>Château de Sours 2011 La Fleur d'Amélie  (Bord...</td>\n",
       "      <td>Bordeaux-style White Blend</td>\n",
       "      <td>Château de Sours</td>\n",
       "    </tr>\n",
       "    <tr>\n",
       "      <th>...</th>\n",
       "      <td>...</td>\n",
       "      <td>...</td>\n",
       "      <td>...</td>\n",
       "      <td>...</td>\n",
       "      <td>...</td>\n",
       "      <td>...</td>\n",
       "      <td>...</td>\n",
       "      <td>...</td>\n",
       "      <td>...</td>\n",
       "      <td>...</td>\n",
       "      <td>...</td>\n",
       "      <td>...</td>\n",
       "      <td>...</td>\n",
       "    </tr>\n",
       "    <tr>\n",
       "      <th>129879</th>\n",
       "      <td>US</td>\n",
       "      <td>This wine is a blend of 45% Grenache, 37% Syra...</td>\n",
       "      <td>Metis</td>\n",
       "      <td>90</td>\n",
       "      <td>20.0</td>\n",
       "      <td>Washington</td>\n",
       "      <td>Columbia Valley (WA)</td>\n",
       "      <td>Columbia Valley</td>\n",
       "      <td>Sean P. Sullivan</td>\n",
       "      <td>@wawinereport</td>\n",
       "      <td>Maison Bleue 2013 Metis Red (Columbia Valley (...</td>\n",
       "      <td>Red Blend</td>\n",
       "      <td>Maison Bleue</td>\n",
       "    </tr>\n",
       "    <tr>\n",
       "      <th>129880</th>\n",
       "      <td>US</td>\n",
       "      <td>Apple blossom intrigues on the nose of this li...</td>\n",
       "      <td>NaN</td>\n",
       "      <td>90</td>\n",
       "      <td>20.0</td>\n",
       "      <td>California</td>\n",
       "      <td>Russian River Valley</td>\n",
       "      <td>Sonoma</td>\n",
       "      <td>Virginie Boone</td>\n",
       "      <td>@vboone</td>\n",
       "      <td>Martin Ray 2015 Chardonnay (Russian River Valley)</td>\n",
       "      <td>Chardonnay</td>\n",
       "      <td>Martin Ray</td>\n",
       "    </tr>\n",
       "    <tr>\n",
       "      <th>129881</th>\n",
       "      <td>Spain</td>\n",
       "      <td>This Verdejo smells like citrus fruits and wil...</td>\n",
       "      <td>NaN</td>\n",
       "      <td>90</td>\n",
       "      <td>19.0</td>\n",
       "      <td>Northern Spain</td>\n",
       "      <td>Rueda</td>\n",
       "      <td>NaN</td>\n",
       "      <td>Michael Schachner</td>\n",
       "      <td>@wineschach</td>\n",
       "      <td>Martinsancho 2015 Verdejo (Rueda)</td>\n",
       "      <td>Verdejo</td>\n",
       "      <td>Martinsancho</td>\n",
       "    </tr>\n",
       "    <tr>\n",
       "      <th>129882</th>\n",
       "      <td>US</td>\n",
       "      <td>This wine is mostly Cabernet Sauvignon (78%), ...</td>\n",
       "      <td>Reserve</td>\n",
       "      <td>90</td>\n",
       "      <td>60.0</td>\n",
       "      <td>Washington</td>\n",
       "      <td>Columbia Valley (WA)</td>\n",
       "      <td>Columbia Valley</td>\n",
       "      <td>Sean P. Sullivan</td>\n",
       "      <td>@wawinereport</td>\n",
       "      <td>Matthews 2012 Reserve Red (Columbia Valley (WA))</td>\n",
       "      <td>Bordeaux-style Red Blend</td>\n",
       "      <td>Matthews</td>\n",
       "    </tr>\n",
       "    <tr>\n",
       "      <th>129913</th>\n",
       "      <td>US</td>\n",
       "      <td>This is taut and dense, and requires time and ...</td>\n",
       "      <td>Artist Series #14</td>\n",
       "      <td>92</td>\n",
       "      <td>44.0</td>\n",
       "      <td>Washington</td>\n",
       "      <td>Columbia Valley (WA)</td>\n",
       "      <td>Columbia Valley</td>\n",
       "      <td>Paul Gregutt</td>\n",
       "      <td>@paulgwine</td>\n",
       "      <td>Woodward Canyon 2005 Artist Series #14 Caberne...</td>\n",
       "      <td>Cabernet Sauvignon</td>\n",
       "      <td>Woodward Canyon</td>\n",
       "    </tr>\n",
       "  </tbody>\n",
       "</table>\n",
       "<p>9983 rows × 13 columns</p>\n",
       "</div>"
      ],
      "text/plain": [
       "       country                                        description  \\\n",
       "2408        US  This is weighty, creamy and medium to full in ...   \n",
       "2409     Italy  There's a touch of toasted almond at the start...   \n",
       "2410     Chile  Lightly herbal strawberry and raspberry aromas...   \n",
       "2412     Italy  The Monica grape often shows a rustic or raw q...   \n",
       "2413    France  Fruity and lightly herbaceous, this has fine t...   \n",
       "...        ...                                                ...   \n",
       "129879      US  This wine is a blend of 45% Grenache, 37% Syra...   \n",
       "129880      US  Apple blossom intrigues on the nose of this li...   \n",
       "129881   Spain  This Verdejo smells like citrus fruits and wil...   \n",
       "129882      US  This wine is mostly Cabernet Sauvignon (78%), ...   \n",
       "129913      US  This is taut and dense, and requires time and ...   \n",
       "\n",
       "               designation  points  price           province  \\\n",
       "2408                   NaN      85   14.0         California   \n",
       "2409    Sallier de la Tour      85   13.0  Sicily & Sardinia   \n",
       "2410               Reserve      85   13.0       Maipo Valley   \n",
       "2412                 Dolia      85   14.0  Sicily & Sardinia   \n",
       "2413     La Fleur d'Amélie      85   15.0           Bordeaux   \n",
       "...                    ...     ...    ...                ...   \n",
       "129879               Metis      90   20.0         Washington   \n",
       "129880                 NaN      90   20.0         California   \n",
       "129881                 NaN      90   19.0     Northern Spain   \n",
       "129882             Reserve      90   60.0         Washington   \n",
       "129913   Artist Series #14      92   44.0         Washington   \n",
       "\n",
       "                    region_1         region_2        taster_name  \\\n",
       "2408             North Coast      North Coast     Virginie Boone   \n",
       "2409                 Sicilia              NaN                NaN   \n",
       "2410                     NaN              NaN  Michael Schachner   \n",
       "2412      Monica di Sardegna              NaN                NaN   \n",
       "2413          Bordeaux Blanc              NaN         Roger Voss   \n",
       "...                      ...              ...                ...   \n",
       "129879  Columbia Valley (WA)  Columbia Valley   Sean P. Sullivan   \n",
       "129880  Russian River Valley           Sonoma     Virginie Boone   \n",
       "129881                 Rueda              NaN  Michael Schachner   \n",
       "129882  Columbia Valley (WA)  Columbia Valley   Sean P. Sullivan   \n",
       "129913  Columbia Valley (WA)  Columbia Valley       Paul Gregutt   \n",
       "\n",
       "       taster_twitter_handle  \\\n",
       "2408                 @vboone   \n",
       "2409                     NaN   \n",
       "2410             @wineschach   \n",
       "2412                     NaN   \n",
       "2413              @vossroger   \n",
       "...                      ...   \n",
       "129879         @wawinereport   \n",
       "129880               @vboone   \n",
       "129881           @wineschach   \n",
       "129882         @wawinereport   \n",
       "129913           @paulgwine    \n",
       "\n",
       "                                                    title  \\\n",
       "2408              Souverain 2010 Chardonnay (North Coast)   \n",
       "2409    Tasca d'Almerita 2011 Sallier de la Tour Grill...   \n",
       "2410    Tres Palacios 2011 Reserve Pinot Noir (Maipo V...   \n",
       "2412    Cantine di Dolianova 2010 Dolia  (Monica di Sa...   \n",
       "2413    Château de Sours 2011 La Fleur d'Amélie  (Bord...   \n",
       "...                                                   ...   \n",
       "129879  Maison Bleue 2013 Metis Red (Columbia Valley (...   \n",
       "129880  Martin Ray 2015 Chardonnay (Russian River Valley)   \n",
       "129881                  Martinsancho 2015 Verdejo (Rueda)   \n",
       "129882   Matthews 2012 Reserve Red (Columbia Valley (WA))   \n",
       "129913  Woodward Canyon 2005 Artist Series #14 Caberne...   \n",
       "\n",
       "                           variety                winery  \n",
       "2408                    Chardonnay             Souverain  \n",
       "2409                        Grillo      Tasca d'Almerita  \n",
       "2410                    Pinot Noir         Tres Palacios  \n",
       "2412                        Monica  Cantine di Dolianova  \n",
       "2413    Bordeaux-style White Blend      Château de Sours  \n",
       "...                            ...                   ...  \n",
       "129879                   Red Blend          Maison Bleue  \n",
       "129880                  Chardonnay            Martin Ray  \n",
       "129881                     Verdejo          Martinsancho  \n",
       "129882    Bordeaux-style Red Blend              Matthews  \n",
       "129913          Cabernet Sauvignon       Woodward Canyon  \n",
       "\n",
       "[9983 rows x 13 columns]"
      ]
     },
     "execution_count": 6,
     "metadata": {},
     "output_type": "execute_result"
    }
   ],
   "source": [
    "wine_df[wine_df.duplicated()]"
   ]
  },
  {
   "cell_type": "markdown",
   "metadata": {},
   "source": [
    "Having 9983 rows are duplicated. Therefore, we're going to remove these duplicated data"
   ]
  },
  {
   "cell_type": "code",
   "execution_count": 7,
   "metadata": {},
   "outputs": [
    {
     "data": {
      "text/plain": [
       "119988"
      ]
     },
     "execution_count": 7,
     "metadata": {},
     "output_type": "execute_result"
    }
   ],
   "source": [
    "wine_df = wine_df.drop_duplicates() \n",
    "len(wine_df)"
   ]
  },
  {
   "cell_type": "code",
   "execution_count": 8,
   "metadata": {},
   "outputs": [
    {
     "data": {
      "text/html": [
       "<div>\n",
       "<style scoped>\n",
       "    .dataframe tbody tr th:only-of-type {\n",
       "        vertical-align: middle;\n",
       "    }\n",
       "\n",
       "    .dataframe tbody tr th {\n",
       "        vertical-align: top;\n",
       "    }\n",
       "\n",
       "    .dataframe thead th {\n",
       "        text-align: right;\n",
       "    }\n",
       "</style>\n",
       "<table border=\"1\" class=\"dataframe\">\n",
       "  <thead>\n",
       "    <tr style=\"text-align: right;\">\n",
       "      <th></th>\n",
       "      <th>country</th>\n",
       "      <th>description</th>\n",
       "      <th>designation</th>\n",
       "      <th>points</th>\n",
       "      <th>price</th>\n",
       "      <th>province</th>\n",
       "      <th>region_1</th>\n",
       "      <th>region_2</th>\n",
       "      <th>taster_name</th>\n",
       "      <th>taster_twitter_handle</th>\n",
       "      <th>title</th>\n",
       "      <th>variety</th>\n",
       "      <th>winery</th>\n",
       "    </tr>\n",
       "  </thead>\n",
       "  <tbody>\n",
       "    <tr>\n",
       "      <th>0</th>\n",
       "      <td>Italy</td>\n",
       "      <td>Aromas include tropical fruit, broom, brimston...</td>\n",
       "      <td>Vulkà Bianco</td>\n",
       "      <td>87</td>\n",
       "      <td>NaN</td>\n",
       "      <td>Sicily &amp; Sardinia</td>\n",
       "      <td>Etna</td>\n",
       "      <td>NaN</td>\n",
       "      <td>Kerin O’Keefe</td>\n",
       "      <td>@kerinokeefe</td>\n",
       "      <td>Nicosia 2013 Vulkà Bianco  (Etna)</td>\n",
       "      <td>White Blend</td>\n",
       "      <td>Nicosia</td>\n",
       "    </tr>\n",
       "    <tr>\n",
       "      <th>1</th>\n",
       "      <td>Portugal</td>\n",
       "      <td>This is ripe and fruity, a wine that is smooth...</td>\n",
       "      <td>Avidagos</td>\n",
       "      <td>87</td>\n",
       "      <td>15.0</td>\n",
       "      <td>Douro</td>\n",
       "      <td>NaN</td>\n",
       "      <td>NaN</td>\n",
       "      <td>Roger Voss</td>\n",
       "      <td>@vossroger</td>\n",
       "      <td>Quinta dos Avidagos 2011 Avidagos Red (Douro)</td>\n",
       "      <td>Portuguese Red</td>\n",
       "      <td>Quinta dos Avidagos</td>\n",
       "    </tr>\n",
       "    <tr>\n",
       "      <th>2</th>\n",
       "      <td>US</td>\n",
       "      <td>Tart and snappy, the flavors of lime flesh and...</td>\n",
       "      <td>NaN</td>\n",
       "      <td>87</td>\n",
       "      <td>14.0</td>\n",
       "      <td>Oregon</td>\n",
       "      <td>Willamette Valley</td>\n",
       "      <td>Willamette Valley</td>\n",
       "      <td>Paul Gregutt</td>\n",
       "      <td>@paulgwine</td>\n",
       "      <td>Rainstorm 2013 Pinot Gris (Willamette Valley)</td>\n",
       "      <td>Pinot Gris</td>\n",
       "      <td>Rainstorm</td>\n",
       "    </tr>\n",
       "    <tr>\n",
       "      <th>3</th>\n",
       "      <td>US</td>\n",
       "      <td>Pineapple rind, lemon pith and orange blossom ...</td>\n",
       "      <td>Reserve Late Harvest</td>\n",
       "      <td>87</td>\n",
       "      <td>13.0</td>\n",
       "      <td>Michigan</td>\n",
       "      <td>Lake Michigan Shore</td>\n",
       "      <td>NaN</td>\n",
       "      <td>Alexander Peartree</td>\n",
       "      <td>NaN</td>\n",
       "      <td>St. Julian 2013 Reserve Late Harvest Riesling ...</td>\n",
       "      <td>Riesling</td>\n",
       "      <td>St. Julian</td>\n",
       "    </tr>\n",
       "    <tr>\n",
       "      <th>4</th>\n",
       "      <td>US</td>\n",
       "      <td>Much like the regular bottling from 2012, this...</td>\n",
       "      <td>Vintner's Reserve Wild Child Block</td>\n",
       "      <td>87</td>\n",
       "      <td>65.0</td>\n",
       "      <td>Oregon</td>\n",
       "      <td>Willamette Valley</td>\n",
       "      <td>Willamette Valley</td>\n",
       "      <td>Paul Gregutt</td>\n",
       "      <td>@paulgwine</td>\n",
       "      <td>Sweet Cheeks 2012 Vintner's Reserve Wild Child...</td>\n",
       "      <td>Pinot Noir</td>\n",
       "      <td>Sweet Cheeks</td>\n",
       "    </tr>\n",
       "    <tr>\n",
       "      <th>...</th>\n",
       "      <td>...</td>\n",
       "      <td>...</td>\n",
       "      <td>...</td>\n",
       "      <td>...</td>\n",
       "      <td>...</td>\n",
       "      <td>...</td>\n",
       "      <td>...</td>\n",
       "      <td>...</td>\n",
       "      <td>...</td>\n",
       "      <td>...</td>\n",
       "      <td>...</td>\n",
       "      <td>...</td>\n",
       "      <td>...</td>\n",
       "    </tr>\n",
       "    <tr>\n",
       "      <th>129966</th>\n",
       "      <td>Germany</td>\n",
       "      <td>Notes of honeysuckle and cantaloupe sweeten th...</td>\n",
       "      <td>Brauneberger Juffer-Sonnenuhr Spätlese</td>\n",
       "      <td>90</td>\n",
       "      <td>28.0</td>\n",
       "      <td>Mosel</td>\n",
       "      <td>NaN</td>\n",
       "      <td>NaN</td>\n",
       "      <td>Anna Lee C. Iijima</td>\n",
       "      <td>NaN</td>\n",
       "      <td>Dr. H. Thanisch (Erben Müller-Burggraef) 2013 ...</td>\n",
       "      <td>Riesling</td>\n",
       "      <td>Dr. H. Thanisch (Erben Müller-Burggraef)</td>\n",
       "    </tr>\n",
       "    <tr>\n",
       "      <th>129967</th>\n",
       "      <td>US</td>\n",
       "      <td>Citation is given as much as a decade of bottl...</td>\n",
       "      <td>NaN</td>\n",
       "      <td>90</td>\n",
       "      <td>75.0</td>\n",
       "      <td>Oregon</td>\n",
       "      <td>Oregon</td>\n",
       "      <td>Oregon Other</td>\n",
       "      <td>Paul Gregutt</td>\n",
       "      <td>@paulgwine</td>\n",
       "      <td>Citation 2004 Pinot Noir (Oregon)</td>\n",
       "      <td>Pinot Noir</td>\n",
       "      <td>Citation</td>\n",
       "    </tr>\n",
       "    <tr>\n",
       "      <th>129968</th>\n",
       "      <td>France</td>\n",
       "      <td>Well-drained gravel soil gives this wine its c...</td>\n",
       "      <td>Kritt</td>\n",
       "      <td>90</td>\n",
       "      <td>30.0</td>\n",
       "      <td>Alsace</td>\n",
       "      <td>Alsace</td>\n",
       "      <td>NaN</td>\n",
       "      <td>Roger Voss</td>\n",
       "      <td>@vossroger</td>\n",
       "      <td>Domaine Gresser 2013 Kritt Gewurztraminer (Als...</td>\n",
       "      <td>Gewürztraminer</td>\n",
       "      <td>Domaine Gresser</td>\n",
       "    </tr>\n",
       "    <tr>\n",
       "      <th>129969</th>\n",
       "      <td>France</td>\n",
       "      <td>A dry style of Pinot Gris, this is crisp with ...</td>\n",
       "      <td>NaN</td>\n",
       "      <td>90</td>\n",
       "      <td>32.0</td>\n",
       "      <td>Alsace</td>\n",
       "      <td>Alsace</td>\n",
       "      <td>NaN</td>\n",
       "      <td>Roger Voss</td>\n",
       "      <td>@vossroger</td>\n",
       "      <td>Domaine Marcel Deiss 2012 Pinot Gris (Alsace)</td>\n",
       "      <td>Pinot Gris</td>\n",
       "      <td>Domaine Marcel Deiss</td>\n",
       "    </tr>\n",
       "    <tr>\n",
       "      <th>129970</th>\n",
       "      <td>France</td>\n",
       "      <td>Big, rich and off-dry, this is powered by inte...</td>\n",
       "      <td>Lieu-dit Harth Cuvée Caroline</td>\n",
       "      <td>90</td>\n",
       "      <td>21.0</td>\n",
       "      <td>Alsace</td>\n",
       "      <td>Alsace</td>\n",
       "      <td>NaN</td>\n",
       "      <td>Roger Voss</td>\n",
       "      <td>@vossroger</td>\n",
       "      <td>Domaine Schoffit 2012 Lieu-dit Harth Cuvée Car...</td>\n",
       "      <td>Gewürztraminer</td>\n",
       "      <td>Domaine Schoffit</td>\n",
       "    </tr>\n",
       "  </tbody>\n",
       "</table>\n",
       "<p>119988 rows × 13 columns</p>\n",
       "</div>"
      ],
      "text/plain": [
       "         country                                        description  \\\n",
       "0          Italy  Aromas include tropical fruit, broom, brimston...   \n",
       "1       Portugal  This is ripe and fruity, a wine that is smooth...   \n",
       "2             US  Tart and snappy, the flavors of lime flesh and...   \n",
       "3             US  Pineapple rind, lemon pith and orange blossom ...   \n",
       "4             US  Much like the regular bottling from 2012, this...   \n",
       "...          ...                                                ...   \n",
       "129966   Germany  Notes of honeysuckle and cantaloupe sweeten th...   \n",
       "129967        US  Citation is given as much as a decade of bottl...   \n",
       "129968    France  Well-drained gravel soil gives this wine its c...   \n",
       "129969    France  A dry style of Pinot Gris, this is crisp with ...   \n",
       "129970    France  Big, rich and off-dry, this is powered by inte...   \n",
       "\n",
       "                                   designation  points  price  \\\n",
       "0                                 Vulkà Bianco      87    NaN   \n",
       "1                                     Avidagos      87   15.0   \n",
       "2                                          NaN      87   14.0   \n",
       "3                         Reserve Late Harvest      87   13.0   \n",
       "4           Vintner's Reserve Wild Child Block      87   65.0   \n",
       "...                                        ...     ...    ...   \n",
       "129966  Brauneberger Juffer-Sonnenuhr Spätlese      90   28.0   \n",
       "129967                                     NaN      90   75.0   \n",
       "129968                                   Kritt      90   30.0   \n",
       "129969                                     NaN      90   32.0   \n",
       "129970           Lieu-dit Harth Cuvée Caroline      90   21.0   \n",
       "\n",
       "                 province             region_1           region_2  \\\n",
       "0       Sicily & Sardinia                 Etna                NaN   \n",
       "1                   Douro                  NaN                NaN   \n",
       "2                  Oregon    Willamette Valley  Willamette Valley   \n",
       "3                Michigan  Lake Michigan Shore                NaN   \n",
       "4                  Oregon    Willamette Valley  Willamette Valley   \n",
       "...                   ...                  ...                ...   \n",
       "129966              Mosel                  NaN                NaN   \n",
       "129967             Oregon               Oregon       Oregon Other   \n",
       "129968             Alsace               Alsace                NaN   \n",
       "129969             Alsace               Alsace                NaN   \n",
       "129970             Alsace               Alsace                NaN   \n",
       "\n",
       "               taster_name taster_twitter_handle  \\\n",
       "0            Kerin O’Keefe          @kerinokeefe   \n",
       "1               Roger Voss            @vossroger   \n",
       "2             Paul Gregutt           @paulgwine    \n",
       "3       Alexander Peartree                   NaN   \n",
       "4             Paul Gregutt           @paulgwine    \n",
       "...                    ...                   ...   \n",
       "129966  Anna Lee C. Iijima                   NaN   \n",
       "129967        Paul Gregutt           @paulgwine    \n",
       "129968          Roger Voss            @vossroger   \n",
       "129969          Roger Voss            @vossroger   \n",
       "129970          Roger Voss            @vossroger   \n",
       "\n",
       "                                                    title         variety  \\\n",
       "0                       Nicosia 2013 Vulkà Bianco  (Etna)     White Blend   \n",
       "1           Quinta dos Avidagos 2011 Avidagos Red (Douro)  Portuguese Red   \n",
       "2           Rainstorm 2013 Pinot Gris (Willamette Valley)      Pinot Gris   \n",
       "3       St. Julian 2013 Reserve Late Harvest Riesling ...        Riesling   \n",
       "4       Sweet Cheeks 2012 Vintner's Reserve Wild Child...      Pinot Noir   \n",
       "...                                                   ...             ...   \n",
       "129966  Dr. H. Thanisch (Erben Müller-Burggraef) 2013 ...        Riesling   \n",
       "129967                  Citation 2004 Pinot Noir (Oregon)      Pinot Noir   \n",
       "129968  Domaine Gresser 2013 Kritt Gewurztraminer (Als...  Gewürztraminer   \n",
       "129969      Domaine Marcel Deiss 2012 Pinot Gris (Alsace)      Pinot Gris   \n",
       "129970  Domaine Schoffit 2012 Lieu-dit Harth Cuvée Car...  Gewürztraminer   \n",
       "\n",
       "                                          winery  \n",
       "0                                        Nicosia  \n",
       "1                            Quinta dos Avidagos  \n",
       "2                                      Rainstorm  \n",
       "3                                     St. Julian  \n",
       "4                                   Sweet Cheeks  \n",
       "...                                          ...  \n",
       "129966  Dr. H. Thanisch (Erben Müller-Burggraef)  \n",
       "129967                                  Citation  \n",
       "129968                           Domaine Gresser  \n",
       "129969                      Domaine Marcel Deiss  \n",
       "129970                          Domaine Schoffit  \n",
       "\n",
       "[119988 rows x 13 columns]"
      ]
     },
     "execution_count": 8,
     "metadata": {},
     "output_type": "execute_result"
    }
   ],
   "source": [
    "wine_df"
   ]
  },
  {
   "cell_type": "markdown",
   "metadata": {},
   "source": [
    "### **5. What is the meaning of each column?**"
   ]
  },
  {
   "cell_type": "markdown",
   "metadata": {},
   "source": [
    "The data consists of 13 fields:\n",
    "\n",
    "- *Points*: the number of points WineEnthusiast rated the wine on a scale of 1-100 (though they say they only post reviews for wines that score >=80)\n",
    "- *Title*: the title of the wine review, which often contains the vintage if you're interested in extracting that feature\n",
    "- *Variety*: the type of grapes used to make the wine (ie Pinot Noir)\n",
    "- *Description*: a few sentences from a sommelier describing the wine's taste, smell, look, feel, etc.\n",
    "- *Country*: the country that the wine is from\n",
    "- *Province*: the province or state that the wine is from\n",
    "- *Region 1*: the wine growing area in a province or state (ie Napa)\n",
    "- *Region 2*: sometimes there are more specific regions specified within a wine growing area (ie Rutherford inside the Napa Valley), but this value can sometimes be blank\n",
    "- *Winery*: the winery that made the wine\n",
    "- *Designation*: the vineyard within the winery where the grapes that made the wine are from\n",
    "- *Price*: the cost for a bottle of the wine \n",
    "- *Taster Name*: name of the person who tasted and reviewed the wine\n",
    "- *Taster Twitter Handle*: Twitter handle for the person who tasted ane reviewed the wine"
   ]
  },
  {
   "cell_type": "markdown",
   "metadata": {},
   "source": [
    "### 6. What is the current data type of each column? Are there columns having inappropriate data types?"
   ]
  },
  {
   "cell_type": "markdown",
   "metadata": {},
   "source": [
    "We check the datatype (`dtype`) of each element in a column in `wine_df` and store the results in a series named `col_dtypes`. The index of this series is the name of the columns."
   ]
  },
  {
   "cell_type": "code",
   "execution_count": 9,
   "metadata": {},
   "outputs": [
    {
     "data": {
      "text/plain": [
       "country                   object\n",
       "description               object\n",
       "designation               object\n",
       "points                     int64\n",
       "price                    float64\n",
       "province                  object\n",
       "region_1                  object\n",
       "region_2                  object\n",
       "taster_name               object\n",
       "taster_twitter_handle     object\n",
       "title                     object\n",
       "variety                   object\n",
       "winery                    object\n",
       "dtype: object"
      ]
     },
     "execution_count": 9,
     "metadata": {},
     "output_type": "execute_result"
    }
   ],
   "source": [
    "col_dtypes = wine_df.dtypes\n",
    "col_dtypes"
   ]
  },
  {
   "cell_type": "markdown",
   "metadata": {},
   "source": [
    "- As we can see, `points` and `price` are columns are suitable for numeric columns, the others are object type \n",
    "- There are not any inappropriate data types"
   ]
  },
  {
   "cell_type": "markdown",
   "metadata": {},
   "source": [
    "### 7. With each numerical column, how are values distributed?\n",
    "- What is the percentage of `missing values`?\n",
    "- `Min`? `max`? Are they `abnormal`?"
   ]
  },
  {
   "cell_type": "markdown",
   "metadata": {},
   "source": [
    "For now, there are 2 columns that seem to be numeric data: \"points\", \"price\". \n",
    "\n",
    "For each of numeric column, we will compute the percentage of missing values; min, max value and store them into a dataframe named `nume_col_profiles_df`. This dataframe contains 3 rows (\"missing_ratio\", \"min\", \"max\") and 2 columns (\"points\", \"price\")."
   ]
  },
  {
   "cell_type": "code",
   "execution_count": 10,
   "metadata": {},
   "outputs": [
    {
     "data": {
      "text/html": [
       "<div>\n",
       "<style scoped>\n",
       "    .dataframe tbody tr th:only-of-type {\n",
       "        vertical-align: middle;\n",
       "    }\n",
       "\n",
       "    .dataframe tbody tr th {\n",
       "        vertical-align: top;\n",
       "    }\n",
       "\n",
       "    .dataframe thead th {\n",
       "        text-align: right;\n",
       "    }\n",
       "</style>\n",
       "<table border=\"1\" class=\"dataframe\">\n",
       "  <thead>\n",
       "    <tr style=\"text-align: right;\">\n",
       "      <th></th>\n",
       "      <th>points</th>\n",
       "      <th>price</th>\n",
       "    </tr>\n",
       "  </thead>\n",
       "  <tbody>\n",
       "    <tr>\n",
       "      <th>missing_ratio</th>\n",
       "      <td>0.0</td>\n",
       "      <td>6.996533</td>\n",
       "    </tr>\n",
       "    <tr>\n",
       "      <th>min</th>\n",
       "      <td>80.0</td>\n",
       "      <td>4.000000</td>\n",
       "    </tr>\n",
       "    <tr>\n",
       "      <th>max</th>\n",
       "      <td>100.0</td>\n",
       "      <td>3300.000000</td>\n",
       "    </tr>\n",
       "  </tbody>\n",
       "</table>\n",
       "</div>"
      ],
      "text/plain": [
       "               points        price\n",
       "missing_ratio     0.0     6.996533\n",
       "min              80.0     4.000000\n",
       "max             100.0  3300.000000"
      ]
     },
     "execution_count": 10,
     "metadata": {},
     "output_type": "execute_result"
    }
   ],
   "source": [
    "nume_col_profiles_df = pd.DataFrame(columns = [\"points\", \"price\"], \n",
    "                                    index = ['missing_ratio', 'min', 'max'], data = np.nan)\n",
    "\n",
    "\n",
    "nume_col_profiles_df.loc['missing_ratio'] = np.array(wine_df[nume_col_profiles_df.columns].isnull().sum() * 100 \n",
    "                                             / len(wine_df[nume_col_profiles_df.columns]))\n",
    "\n",
    "nume_col_profiles_df.loc['min'] = wine_df[nume_col_profiles_df.columns].min()\n",
    "\n",
    "nume_col_profiles_df.loc['max'] = wine_df[nume_col_profiles_df.columns].max()\n",
    "\n",
    "\n",
    "nume_col_profiles_df"
   ]
  },
  {
   "cell_type": "markdown",
   "metadata": {},
   "source": [
    "Percent missing value by feature"
   ]
  },
  {
   "cell_type": "code",
   "execution_count": 11,
   "metadata": {},
   "outputs": [
    {
     "data": {
      "image/png": "[encoded data removed]",
      "text/plain": [
       "<Figure size 640x480 with 1 Axes>"
      ]
     },
     "metadata": {},
     "output_type": "display_data"
    }
   ],
   "source": [
    "plt.bar(nume_col_profiles_df.columns, nume_col_profiles_df.loc['missing_ratio'])\n",
    "plt.xlabel('Features')\n",
    "plt.ylabel('Percent of missing values (%)')\n",
    "plt.title('Percent missing data by feature');"
   ]
  },
  {
   "cell_type": "markdown",
   "metadata": {},
   "source": [
    "### 8. With each categorical column, how are values distributed?\n",
    "- What is the percentage of `missing values`?\n",
    "- How many `different values`? Show a few\n",
    "- Are they `abnormal`?"
   ]
  },
  {
   "cell_type": "markdown",
   "metadata": {},
   "source": [
    "`wine_df` contains 11 categorical columns: \"country\", \"description\", \"designation\", \"province\", \"region_1\", \"region_2\", \"taster_name\", \"taster_twitter_handle\", \"title\", \"variety\", \"winery\" .\n",
    "\n",
    "For each of categorical column:\n",
    "- compute the percentage of missing values \n",
    "- number of different values (missing values are not counted), \n",
    "- a list of different values (missing values are not counted) \n",
    "\n",
    "Then store them into a dataframe named `cate_col_profiles_df`. This dataframe contains 3 rows (\"missing_ratio\", \"num_diff_vals\", \"diff_vals\") and 11 columns (\"country\", \"description\", \"designation\", \"province\", \"region_1\", \"region_2\", \"taster_name\", \"taster_twitter_handle\", \"title\", \"variety\", \"winery\")."
   ]
  },
  {
   "cell_type": "code",
   "execution_count": 12,
   "metadata": {},
   "outputs": [
    {
     "data": {
      "text/html": [
       "<div>\n",
       "<style scoped>\n",
       "    .dataframe tbody tr th:only-of-type {\n",
       "        vertical-align: middle;\n",
       "    }\n",
       "\n",
       "    .dataframe tbody tr th {\n",
       "        vertical-align: top;\n",
       "    }\n",
       "\n",
       "    .dataframe thead th {\n",
       "        text-align: right;\n",
       "    }\n",
       "</style>\n",
       "<table border=\"1\" class=\"dataframe\">\n",
       "  <thead>\n",
       "    <tr style=\"text-align: right;\">\n",
       "      <th></th>\n",
       "      <th>country</th>\n",
       "      <th>description</th>\n",
       "      <th>designation</th>\n",
       "      <th>province</th>\n",
       "      <th>region_1</th>\n",
       "      <th>region_2</th>\n",
       "      <th>taster_name</th>\n",
       "      <th>taster_twitter_handle</th>\n",
       "      <th>title</th>\n",
       "      <th>variety</th>\n",
       "      <th>winery</th>\n",
       "    </tr>\n",
       "  </thead>\n",
       "  <tbody>\n",
       "    <tr>\n",
       "      <th>missing_ratio</th>\n",
       "      <td>0.049172</td>\n",
       "      <td>0.0</td>\n",
       "      <td>28.790379</td>\n",
       "      <td>0.049172</td>\n",
       "      <td>16.30163</td>\n",
       "      <td>61.021936</td>\n",
       "      <td>20.766243</td>\n",
       "      <td>24.540787</td>\n",
       "      <td>0.0</td>\n",
       "      <td>0.000833</td>\n",
       "      <td>0.0</td>\n",
       "    </tr>\n",
       "    <tr>\n",
       "      <th>num_diff_vals</th>\n",
       "      <td>43</td>\n",
       "      <td>119955</td>\n",
       "      <td>37979</td>\n",
       "      <td>425</td>\n",
       "      <td>1229</td>\n",
       "      <td>17</td>\n",
       "      <td>19</td>\n",
       "      <td>15</td>\n",
       "      <td>118840</td>\n",
       "      <td>707</td>\n",
       "      <td>16757</td>\n",
       "    </tr>\n",
       "    <tr>\n",
       "      <th>diff_vals</th>\n",
       "      <td>[Italy, Portugal, US, Spain, France, Germany, ...</td>\n",
       "      <td>[Aromas include tropical fruit, broom, brimsto...</td>\n",
       "      <td>[Vulkà Bianco, Avidagos, Reserve Late Harvest,...</td>\n",
       "      <td>[Sicily &amp; Sardinia, Douro, Oregon, Michigan, N...</td>\n",
       "      <td>[Etna, Willamette Valley, Lake Michigan Shore,...</td>\n",
       "      <td>[nan, Willamette Valley, Napa, Sonoma, Central...</td>\n",
       "      <td>[Kerin O’Keefe, Roger Voss, Paul Gregutt, Alex...</td>\n",
       "      <td>[@kerinokeefe, @vossroger, @paulgwine , @wines...</td>\n",
       "      <td>[Nicosia 2013 Vulkà Bianco  (Etna), Quinta dos...</td>\n",
       "      <td>[White Blend, Portuguese Red, Pinot Gris, Ries...</td>\n",
       "      <td>[Nicosia, Quinta dos Avidagos, Rainstorm, St. ...</td>\n",
       "    </tr>\n",
       "  </tbody>\n",
       "</table>\n",
       "</div>"
      ],
      "text/plain": [
       "                                                         country  \\\n",
       "missing_ratio                                           0.049172   \n",
       "num_diff_vals                                                 43   \n",
       "diff_vals      [Italy, Portugal, US, Spain, France, Germany, ...   \n",
       "\n",
       "                                                     description  \\\n",
       "missing_ratio                                                0.0   \n",
       "num_diff_vals                                             119955   \n",
       "diff_vals      [Aromas include tropical fruit, broom, brimsto...   \n",
       "\n",
       "                                                     designation  \\\n",
       "missing_ratio                                          28.790379   \n",
       "num_diff_vals                                              37979   \n",
       "diff_vals      [Vulkà Bianco, Avidagos, Reserve Late Harvest,...   \n",
       "\n",
       "                                                        province  \\\n",
       "missing_ratio                                           0.049172   \n",
       "num_diff_vals                                                425   \n",
       "diff_vals      [Sicily & Sardinia, Douro, Oregon, Michigan, N...   \n",
       "\n",
       "                                                        region_1  \\\n",
       "missing_ratio                                           16.30163   \n",
       "num_diff_vals                                               1229   \n",
       "diff_vals      [Etna, Willamette Valley, Lake Michigan Shore,...   \n",
       "\n",
       "                                                        region_2  \\\n",
       "missing_ratio                                          61.021936   \n",
       "num_diff_vals                                                 17   \n",
       "diff_vals      [nan, Willamette Valley, Napa, Sonoma, Central...   \n",
       "\n",
       "                                                     taster_name  \\\n",
       "missing_ratio                                          20.766243   \n",
       "num_diff_vals                                                 19   \n",
       "diff_vals      [Kerin O’Keefe, Roger Voss, Paul Gregutt, Alex...   \n",
       "\n",
       "                                           taster_twitter_handle  \\\n",
       "missing_ratio                                          24.540787   \n",
       "num_diff_vals                                                 15   \n",
       "diff_vals      [@kerinokeefe, @vossroger, @paulgwine , @wines...   \n",
       "\n",
       "                                                           title  \\\n",
       "missing_ratio                                                0.0   \n",
       "num_diff_vals                                             118840   \n",
       "diff_vals      [Nicosia 2013 Vulkà Bianco  (Etna), Quinta dos...   \n",
       "\n",
       "                                                         variety  \\\n",
       "missing_ratio                                           0.000833   \n",
       "num_diff_vals                                                707   \n",
       "diff_vals      [White Blend, Portuguese Red, Pinot Gris, Ries...   \n",
       "\n",
       "                                                          winery  \n",
       "missing_ratio                                                0.0  \n",
       "num_diff_vals                                              16757  \n",
       "diff_vals      [Nicosia, Quinta dos Avidagos, Rainstorm, St. ...  "
      ]
     },
     "execution_count": 12,
     "metadata": {},
     "output_type": "execute_result"
    }
   ],
   "source": [
    "cate_col_profiles_df = pd.DataFrame(columns = [\"country\", \"description\", \"designation\", \"province\", \"region_1\", \"region_2\", \"taster_name\", \"taster_twitter_handle\", \"title\", \"variety\", \"winery\"],\n",
    "                                   index = [\"missing_ratio\", \"num_diff_vals\", \"diff_vals\"])\n",
    "\n",
    "cate_col_profiles_df.loc['missing_ratio'] = (wine_df[cate_col_profiles_df.columns].isnull().sum() * 100 \n",
    "                                             / len(wine_df[cate_col_profiles_df.columns]))\n",
    "\n",
    "cate_col_profiles_df.loc['num_diff_vals'] = wine_df[cate_col_profiles_df.columns].nunique()\n",
    "\n",
    "cate_col_profiles_df.loc['diff_vals'] = wine_df[cate_col_profiles_df.columns].ffill().agg(['unique']).loc['unique']\n",
    "\n",
    "cate_col_profiles_df"
   ]
  },
  {
   "cell_type": "markdown",
   "metadata": {},
   "source": [
    "Percent missing value by feature"
   ]
  },
  {
   "cell_type": "code",
   "execution_count": 13,
   "metadata": {},
   "outputs": [
    {
     "data": {
      "image/png": "[encoded data removed]",
      "text/plain": [
       "<Figure size 640x480 with 1 Axes>"
      ]
     },
     "metadata": {},
     "output_type": "display_data"
    }
   ],
   "source": [
    "plt.xticks(rotation='90')\n",
    "plt.bar(cate_col_profiles_df.columns, cate_col_profiles_df.loc['missing_ratio'], width = 0.4)\n",
    "plt.xlabel('Features')\n",
    "plt.ylabel('Percent of missing values (%)')\n",
    "plt.title('Percent missing data by feature');"
   ]
  },
  {
   "cell_type": "markdown",
   "metadata": {},
   "source": [
    "## 3. Asking meaningful questions"
   ]
  },
  {
   "cell_type": "markdown",
   "metadata": {},
   "source": [
    "### Question 1"
   ]
  },
  {
   "cell_type": "markdown",
   "metadata": {},
   "source": [
    "***Distribution of Wine Reviews by all countries***"
   ]
  },
  {
   "cell_type": "markdown",
   "metadata": {},
   "source": [
    "**Benefit:**\n",
    "Having an overview of distribution of wine review by all countries. Furthermore, we can predict which country has the most wines because there are many reviews"
   ]
  },
  {
   "cell_type": "markdown",
   "metadata": {},
   "source": [
    "### Question 2"
   ]
  },
  {
   "cell_type": "markdown",
   "metadata": {},
   "source": [
    "***Relation between Price and Points, is it true that tthe higher the point, the more expensive the wine?***"
   ]
  },
  {
   "cell_type": "markdown",
   "metadata": {},
   "source": [
    "**Benefit:**\n",
    "To help people have a view of wine when expecting to spend a lot of money, will there be a good quality of wine?"
   ]
  },
  {
   "cell_type": "markdown",
   "metadata": {},
   "source": [
    "### Question 3"
   ]
  },
  {
   "cell_type": "markdown",
   "metadata": {},
   "source": [
    "***Find out top 5 countries which are produce good wines***"
   ]
  },
  {
   "cell_type": "markdown",
   "metadata": {},
   "source": [
    "### **Benefit:** <br>\n",
    "- For buinessman when they want to conduct wine, they would like to find the approriate market so the answer of this question will help them to have a perspective of wine industry. Then, they will know where is the potential market for their buisness to make a correct investment decision.\n",
    "- For wine producer country, knowing their ranking will help them assert themself (their reputation, population,...)"
   ]
  },
  {
   "cell_type": "markdown",
   "metadata": {},
   "source": [
    "### Question 4"
   ]
  },
  {
   "cell_type": "markdown",
   "metadata": {},
   "source": [
    "***Find out the most common wine variety.Whether wines made from this variety has high cost?***"
   ]
  },
  {
   "cell_type": "markdown",
   "metadata": {},
   "source": [
    "### **Benefit:** <br>\n",
    "Wine producers may wonder what variety should be used to make the good wine which means the wine must has good taste, smelling, look, feel. In the other hand, if they can produce an actual good wine, they can make a high price for their wine production. The answer of this question will help them find it out."
   ]
  },
  {
   "cell_type": "markdown",
   "metadata": {},
   "source": [
    "## 4. Preprocessing + analyzing data to answer each question"
   ]
  },
  {
   "cell_type": "markdown",
   "metadata": {},
   "source": [
    "## Question 1: Distribution of Wine Reviews by all countries"
   ]
  },
  {
   "cell_type": "markdown",
   "metadata": {},
   "source": [
    "### Preprocessing"
   ]
  },
  {
   "cell_type": "markdown",
   "metadata": {},
   "source": [
    "#### Explanation:\n",
    "In this question, we will process in column `country`. As we can see in data exploring, this column includes missing value. On the other hand, missing value ratio is very small, so we decided to remove them and save in to new dataframe `q1_wine_df`"
   ]
  },
  {
   "cell_type": "code",
   "execution_count": 14,
   "metadata": {},
   "outputs": [],
   "source": [
    "# Code\n",
    "q1_wine_df = wine_df.dropna(subset=['country'])"
   ]
  },
  {
   "cell_type": "markdown",
   "metadata": {},
   "source": [
    "### Data Analysis"
   ]
  },
  {
   "cell_type": "markdown",
   "metadata": {},
   "source": [
    "#### Explanation:"
   ]
  },
  {
   "cell_type": "code",
   "execution_count": 15,
   "metadata": {},
   "outputs": [
    {
     "data": {
      "text/plain": [
       "country\n",
       "Slovakia                      1\n",
       "Egypt                         1\n",
       "China                         1\n",
       "Armenia                       2\n",
       "Bosnia and Herzegovina        2\n",
       "Luxembourg                    5\n",
       "Switzerland                   6\n",
       "Serbia                        8\n",
       "India                         8\n",
       "Cyprus                       10\n",
       "Macedonia                    11\n",
       "Czech Republic               11\n",
       "Ukraine                      14\n",
       "Peru                         16\n",
       "Morocco                      24\n",
       "Lebanon                      32\n",
       "Brazil                       49\n",
       "Moldova                      56\n",
       "England                      63\n",
       "Mexico                       68\n",
       "Croatia                      70\n",
       "Georgia                      76\n",
       "Slovenia                     77\n",
       "Turkey                       81\n",
       "Uruguay                      98\n",
       "Romania                     102\n",
       "Hungary                     129\n",
       "Bulgaria                    132\n",
       "Canada                      226\n",
       "Greece                      432\n",
       "Israel                      466\n",
       "New Zealand                1278\n",
       "South Africa               1301\n",
       "Germany                    1992\n",
       "Australia                  2197\n",
       "Austria                    3034\n",
       "Argentina                  3544\n",
       "Chile                      4184\n",
       "Portugal                   5256\n",
       "Spain                      6116\n",
       "Italy                     17940\n",
       "France                    20353\n",
       "US                        50457\n",
       "Name: country, dtype: int64"
      ]
     },
     "execution_count": 15,
     "metadata": {},
     "output_type": "execute_result"
    }
   ],
   "source": [
    "# Code\n",
    "countries = q1_wine_df.groupby(by=['country'])['country'].count().sort_values()\n",
    "countries"
   ]
  },
  {
   "cell_type": "markdown",
   "metadata": {},
   "source": [
    "### Data Visualization"
   ]
  },
  {
   "cell_type": "code",
   "execution_count": 16,
   "metadata": {},
   "outputs": [
    {
     "data": {
      "image/png": "[encoded data removed]",
      "text/plain": [
       "<Figure size 1400x1000 with 1 Axes>"
      ]
     },
     "metadata": {},
     "output_type": "display_data"
    }
   ],
   "source": [
    "# Code\n",
    "plt.figure(figsize=(14,10))\n",
    "plt.barh(countries.index, countries.values)\n",
    "plt.xlabel('Number of wine reviews')\n",
    "plt.ylabel('Countries')\n",
    "plt.title('Distribution of Wine Reviews by all countries');"
   ]
  },
  {
   "cell_type": "markdown",
   "metadata": {},
   "source": [
    "***Comments:***\n",
    "- There are 43 countries here\n",
    "- US contribute the most in the review\n",
    "- Slovakia contribute the least in the review"
   ]
  },
  {
   "cell_type": "markdown",
   "metadata": {},
   "source": [
    "## Question 2: Relation between Price and Points, is it true that tthe higher the point, the more expensive the wine?"
   ]
  },
  {
   "cell_type": "markdown",
   "metadata": {},
   "source": [
    "### Preprocessing"
   ]
  },
  {
   "cell_type": "markdown",
   "metadata": {},
   "source": [
    "#### Explanation:\n",
    "In this question, we will process in column `price` and `points`. As we can see in data exploring, column `price` includes a large of missing values (~7%). So we fill in these missing values by mean of column `price`. Then, save into new dataframe `q2_wine_df`"
   ]
  },
  {
   "cell_type": "code",
   "execution_count": 17,
   "metadata": {},
   "outputs": [],
   "source": [
    "# Code\n",
    "q2_wine_df = wine_df.fillna(wine_df['price'].mean())"
   ]
  },
  {
   "cell_type": "markdown",
   "metadata": {},
   "source": [
    "### Data Analysis"
   ]
  },
  {
   "cell_type": "markdown",
   "metadata": {},
   "source": [
    "#### Explanation:\n",
    "This question no need to analyze"
   ]
  },
  {
   "cell_type": "code",
   "execution_count": 18,
   "metadata": {},
   "outputs": [],
   "source": [
    "# Code"
   ]
  },
  {
   "cell_type": "markdown",
   "metadata": {},
   "source": [
    "### Data Visualization"
   ]
  },
  {
   "cell_type": "markdown",
   "metadata": {},
   "source": [
    "##### Normal distribution of `price`"
   ]
  },
  {
   "cell_type": "code",
   "execution_count": 19,
   "metadata": {},
   "outputs": [
    {
     "data": {
      "image/png": "[encoded data removed]",
      "text/plain": [
       "<Figure size 640x480 with 1 Axes>"
      ]
     },
     "metadata": {},
     "output_type": "display_data"
    }
   ],
   "source": [
    "# Code\n",
    "data = q2_wine_df['price']\n",
    "# Fit a normal distribution to the data:\n",
    "mean, std = norm.fit(data)\n",
    "\n",
    "# Plot the histogram.\n",
    "plt.hist(data, bins=25, density=True, alpha=0.6, color='g')\n",
    "\n",
    "# Plot the PDF.\n",
    "xmin, xmax = plt.xlim()\n",
    "x = np.linspace(xmin, xmax, 100)\n",
    "p = norm.pdf(x, mean, std)\n",
    "plt.plot(x, p, 'k', linewidth=2)\n",
    "title = \"Fit results: mean = %.2f,  std = %.2f\" % (mean, std)\n",
    "plt.title(title)\n",
    "\n",
    "plt.show()"
   ]
  },
  {
   "cell_type": "markdown",
   "metadata": {},
   "source": [
    "- Wine prices are concentrated mainly on the left side of the chart (cheap side) with a mean of 35.62 and a standard deviation of 46.60. \n",
    "- A large standard deviation indicates an uneven distribution of wine prices"
   ]
  },
  {
   "cell_type": "markdown",
   "metadata": {},
   "source": [
    "##### Normal distribution of `points`"
   ]
  },
  {
   "cell_type": "code",
   "execution_count": 20,
   "metadata": {},
   "outputs": [
    {
     "data": {
      "image/png": "[encoded data removed]",
      "text/plain": [
       "<Figure size 640x480 with 1 Axes>"
      ]
     },
     "metadata": {},
     "output_type": "display_data"
    }
   ],
   "source": [
    "# Code\n",
    "data = q2_wine_df['points']\n",
    "# Fit a normal distribution to the data:\n",
    "mean, std = norm.fit(data)\n",
    "\n",
    "# Plot the histogram.\n",
    "plt.hist(data, bins=25, density=True, alpha=0.6, color='g')\n",
    "\n",
    "# Plot the PDF.\n",
    "xmin, xmax = plt.xlim()\n",
    "x = np.linspace(xmin, xmax, 100)\n",
    "p = norm.pdf(x, mean, std)\n",
    "plt.plot(x, p, 'k', linewidth=2)\n",
    "title = \"Fit results: mu = %.2f,  std = %.2f\" % (mean, std)\n",
    "plt.title(title)\n",
    "\n",
    "plt.show()"
   ]
  },
  {
   "cell_type": "markdown",
   "metadata": {},
   "source": [
    "Wine points are concentrated mainly in the middle of the chart with a mean of 88.44 and a standard deviation of 3.09."
   ]
  },
  {
   "cell_type": "markdown",
   "metadata": {},
   "source": [
    "##### Scatter plot between Price and Points"
   ]
  },
  {
   "cell_type": "code",
   "execution_count": 21,
   "metadata": {},
   "outputs": [
    {
     "data": {
      "image/png": "[encoded data removed]",
      "text/plain": [
       "<Figure size 640x480 with 1 Axes>"
      ]
     },
     "metadata": {},
     "output_type": "display_data"
    }
   ],
   "source": [
    "plt.figure(constrained_layout=True)\n",
    "plt.grid()\n",
    "plt.scatter(q2_wine_df['points'], q2_wine_df['price'])\n",
    "plt.xlabel('Point')\n",
    "plt.ylabel('Price')\n",
    "plt.title('Relation between Price and Points')\n",
    "plt.show()"
   ]
  },
  {
   "cell_type": "markdown",
   "metadata": {},
   "source": [
    "***Comments:***\n",
    "- As they can see on the chart, as the point goes up the price of the wine will also increase. High prices are concentrated in the range from 95.0 to 97.5.\n",
    "- Price tends to decrease when the point is over 97.5 and close to 100\n",
    "- There is an anomaly on the chart where the price of that wine is very high (>3000) but the rating is only in the range of 87.5 to 90. But only such a point is likely to be outlier and not have much of an impact to the conclusion\n",
    "\n",
    "-> Therefore, the higher the point, the more expensive the wine is true"
   ]
  },
  {
   "cell_type": "markdown",
   "metadata": {},
   "source": [
    "## Question 3: Find out top 5 countries which are produce good wines"
   ]
  },
  {
   "cell_type": "markdown",
   "metadata": {},
   "source": [
    "### Preprocessing"
   ]
  },
  {
   "cell_type": "markdown",
   "metadata": {},
   "source": [
    "#### Explanation:\n",
    "Because we have to find out the standard of good wines base on its point so it will be unnecessary if the dataset contain rows that dont have point value. We will remove these rows.\n",
    "- Create a variable to store all rows which don't have point value.\n",
    "- Remove all these rows from the dataset."
   ]
  },
  {
   "cell_type": "code",
   "execution_count": 22,
   "metadata": {},
   "outputs": [],
   "source": [
    "# Code\n",
    "# drop rows that not have Point values\n",
    "temp_wine_df = wine_df\n",
    "points_missing = temp_wine_df[temp_wine_df['points'].isna()]\n",
    "temp_wine_df.drop(points_missing.index, inplace = True)"
   ]
  },
  {
   "cell_type": "markdown",
   "metadata": {},
   "source": [
    "### Data Analysis"
   ]
  },
  {
   "cell_type": "markdown",
   "metadata": {},
   "source": [
    "#### Explanation:\n",
    "- Wine Spectator's 100-Point Scale [(link)](https://www.winespectator.com/articles/scoring-scale)\n",
    "    - 95-100 Classic: a great wine\n",
    "    - 90-94 Outstanding: a wine of superior character and style\n",
    "    - 85-89 Very good: a wine with special qualities\n",
    "    - 80-84 Good: a solid, well-made wine\n",
    "    - 75-79 Mediocre: a drinkable wine that may have minor flaws\n",
    "    - 50-74 Not recommended\n",
    "- Idea: find countries that have the number of wine point >= 80\n",
    "    - Count the number of wine point of each country in the dataset. Only count if the wine point is greater than 80 which means at least it is good wine\n",
    "    - Sort these values descending to find out top 5 countries that are produce good wines"
   ]
  },
  {
   "cell_type": "code",
   "execution_count": 23,
   "metadata": {},
   "outputs": [
    {
     "data": {
      "text/html": [
       "<div>\n",
       "<style scoped>\n",
       "    .dataframe tbody tr th:only-of-type {\n",
       "        vertical-align: middle;\n",
       "    }\n",
       "\n",
       "    .dataframe tbody tr th {\n",
       "        vertical-align: top;\n",
       "    }\n",
       "\n",
       "    .dataframe thead th {\n",
       "        text-align: right;\n",
       "    }\n",
       "</style>\n",
       "<table border=\"1\" class=\"dataframe\">\n",
       "  <thead>\n",
       "    <tr style=\"text-align: right;\">\n",
       "      <th></th>\n",
       "      <th>Country</th>\n",
       "      <th>Number of good wines produced</th>\n",
       "    </tr>\n",
       "  </thead>\n",
       "  <tbody>\n",
       "    <tr>\n",
       "      <th>Top 1</th>\n",
       "      <td>US</td>\n",
       "      <td>50457</td>\n",
       "    </tr>\n",
       "    <tr>\n",
       "      <th>Top 2</th>\n",
       "      <td>France</td>\n",
       "      <td>20353</td>\n",
       "    </tr>\n",
       "    <tr>\n",
       "      <th>Top 3</th>\n",
       "      <td>Italy</td>\n",
       "      <td>17940</td>\n",
       "    </tr>\n",
       "    <tr>\n",
       "      <th>Top 4</th>\n",
       "      <td>Spain</td>\n",
       "      <td>6116</td>\n",
       "    </tr>\n",
       "    <tr>\n",
       "      <th>Top 5</th>\n",
       "      <td>Portugal</td>\n",
       "      <td>5256</td>\n",
       "    </tr>\n",
       "  </tbody>\n",
       "</table>\n",
       "</div>"
      ],
      "text/plain": [
       "        Country  Number of good wines produced\n",
       "Top 1        US                          50457\n",
       "Top 2    France                          20353\n",
       "Top 3     Italy                          17940\n",
       "Top 4     Spain                           6116\n",
       "Top 5  Portugal                           5256"
      ]
     },
     "execution_count": 23,
     "metadata": {},
     "output_type": "execute_result"
    }
   ],
   "source": [
    "# Code\n",
    "# get all rows that contain point from good upwards\n",
    "good_wines = temp_wine_df[temp_wine_df['points'] >= 80]\n",
    "# count occurence of each coutry with good point value\n",
    "countries = good_wines['country'].tolist()\n",
    "countries_occurence = Counter(countries)\n",
    "# sort descending to get top 5 countries with good wines\n",
    "top_5_countries = sorted(countries_occurence.items(), key=lambda item: item[1], reverse = True)\n",
    "top_5_countries = top_5_countries[0:5]\n",
    "# store to DataFrame\n",
    "index_name = ['Top 1', 'Top 2', 'Top 3', 'Top 4', 'Top 5']\n",
    "top_5_countries_df = pd.DataFrame(top_5_countries, index = index_name, columns = ['Country', 'Number of good wines produced'])\n",
    "top_5_countries_df\n"
   ]
  },
  {
   "cell_type": "markdown",
   "metadata": {},
   "source": [
    "### Data Visualization"
   ]
  },
  {
   "cell_type": "code",
   "execution_count": 24,
   "metadata": {},
   "outputs": [
    {
     "data": {
      "text/plain": [
       "Text(0.5, 1.0, 'Top 5 countries that produced the most good wines')"
      ]
     },
     "execution_count": 24,
     "metadata": {},
     "output_type": "execute_result"
    },
    {
     "data": {
      "image/png": "[encoded data removed]",
      "text/plain": [
       "<Figure size 640x480 with 1 Axes>"
      ]
     },
     "metadata": {},
     "output_type": "display_data"
    }
   ],
   "source": [
    "# Code\n",
    "plt.barh(top_5_countries_df['Country'], top_5_countries_df['Number of good wines produced'])\n",
    "plt.xlabel('Number of good wines produced')\n",
    "plt.title('Top 5 countries that produced the most good wines')"
   ]
  },
  {
   "cell_type": "markdown",
   "metadata": {},
   "source": [
    "***Comments***\n",
    "- USA is the most good wine producer country and Portugal is the least good wine producer country\n",
    "- France produced the number of good wines same as Italy\n",
    "- Spain produced the number of good wines same as Portugal"
   ]
  },
  {
   "cell_type": "markdown",
   "metadata": {},
   "source": [
    "## Question 4: Find out the most common wine variety.Whether wines made from this variety has high cost?"
   ]
  },
  {
   "cell_type": "markdown",
   "metadata": {},
   "source": [
    "### Preprocessing"
   ]
  },
  {
   "cell_type": "markdown",
   "metadata": {},
   "source": [
    "#### Explanation:\n",
    "- Because we have to find out the standard of good wines base on its point so it will be unnecessary if the dataset contain rows that dont have point value. We will remove these rows.\n",
    "    - Create a variable to store all rows which don't have point value.\n",
    "    - Remove all these rows from the dataset.\n",
    "- We have to find out the price of each wine that made from the most common wine variety so we must fill all the missing value in the `price` column.\n",
    "    - calculate median value in `price` column.\n",
    "    - fill in every NaN value in `price` column with median."
   ]
  },
  {
   "cell_type": "code",
   "execution_count": 25,
   "metadata": {},
   "outputs": [],
   "source": [
    "# Code\n",
    "# drop rows that not have Point values\n",
    "temp_wine_df = wine_df\n",
    "points_missing = temp_wine_df[temp_wine_df['points'].isna()]\n",
    "temp_wine_df.drop(points_missing.index, inplace = True)\n",
    "# fill in missing value in 'price' column with median\n",
    "med_price_wine = temp_wine_df.median()\n",
    "temp_wine_df[['price']] = temp_wine_df[['price']].fillna(value = med_price_wine)"
   ]
  },
  {
   "cell_type": "markdown",
   "metadata": {},
   "source": [
    "### Data Analysis"
   ]
  },
  {
   "cell_type": "markdown",
   "metadata": {},
   "source": [
    "#### Explanation:\n",
    "Idea: find the most common wine variety used to make good wine. After find out this variety, use it to put out all wines that made from this variety and check their prices. If the price of all wines that made from this variety is supposed to be high cost then the variety made all most high cost wines.\n",
    "- Get all good wines which means wines have good point (point >= 80).\n",
    "- Statistic all the varieties used to make these wine -> get the most common variety\n",
    "- Get all wine which made from that variety\n",
    "- Check their prices whether it a high cost or not by comparing its price with the median value in the whole market price"
   ]
  },
  {
   "cell_type": "code",
   "execution_count": 26,
   "metadata": {},
   "outputs": [
    {
     "data": {
      "text/plain": [
       "82.11435087147744"
      ]
     },
     "execution_count": 26,
     "metadata": {},
     "output_type": "execute_result"
    }
   ],
   "source": [
    "# Code\n",
    "# get all good wines\n",
    "good_wines = temp_wine_df[temp_wine_df['points'] >= 80]\n",
    "# get the most common wine variety \n",
    "most_wine_variety = good_wines['variety'].mode().tolist()[0]\n",
    "# get all wines that made from 'most_wine_variety'\n",
    "wines_most_variety = good_wines.loc[good_wines['variety'] == most_wine_variety]\n",
    "# calculate median price in a whole wines market\n",
    "med_price_wine = good_wines['price'].median()\n",
    "# get all wine whose price is larger than the median price\n",
    "high_cost_wines =  wines_most_variety.loc[(wines_most_variety['price'] >= med_price_wine)]\n",
    "# calculate the percentage that wines made from 'most_wine_variety' will have high price\n",
    "percen_high_cost = high_cost_wines['price'].count() * 100 / wines_most_variety['price'].count()\n",
    "percen_high_cost"
   ]
  },
  {
   "cell_type": "markdown",
   "metadata": {},
   "source": [
    "### Data Visualization"
   ]
  },
  {
   "cell_type": "code",
   "execution_count": 27,
   "metadata": {},
   "outputs": [
    {
     "data": {
      "image/png": "[encoded data removed]",
      "text/plain": [
       "<Figure size 640x480 with 1 Axes>"
      ]
     },
     "metadata": {},
     "output_type": "display_data"
    }
   ],
   "source": [
    "# Code\n",
    "# Pie chart, where the slices will be ordered and plotted counter-clockwise:\n",
    "mylabels = ['High price wines', 'Low price wines']\n",
    "sizes = [percen_high_cost, 100 - percen_high_cost]\n",
    "\n",
    "fig1, ax1 = plt.subplots()\n",
    "ax1.pie(sizes, autopct='%.2f%%', startangle=90)\n",
    "ax1.axis('equal')\n",
    "plt.legend(title = 'Wines made from the most common variety', bbox_to_anchor=(0.85, 1), loc='upper left', labels=mylabels)\n",
    "\n",
    "plt.show()"
   ]
  },
  {
   "cell_type": "markdown",
   "metadata": {},
   "source": [
    "***Comments*** <br>\n",
    "The probability of wines made from the most common variety will have the high cost is very high (more than 80%)"
   ]
  },
  {
   "cell_type": "markdown",
   "metadata": {},
   "source": [
    "## 5.Reflection"
   ]
  },
  {
   "cell_type": "markdown",
   "metadata": {},
   "source": []
  },
  {
   "cell_type": "markdown",
   "metadata": {},
   "source": []
  },
  {
   "cell_type": "markdown",
   "metadata": {},
   "source": []
  },
  {
   "cell_type": "markdown",
   "metadata": {},
   "source": []
  },
  {
   "cell_type": "markdown",
   "metadata": {},
   "source": [
    "## 6.References"
   ]
  },
  {
   "cell_type": "markdown",
   "metadata": {},
   "source": [
    "https://stackoverflow.com/questions/20011122/fitting-a-normal-distribution-to-1d-data"
   ]
  }
 ],
 "metadata": {
  "kernelspec": {
   "display_name": "Python 3 (ipykernel)",
   "language": "python",
   "name": "python3"
  },
  "language_info": {
   "codemirror_mode": {
    "name": "ipython",
    "version": 3
   },
   "file_extension": ".py",
   "mimetype": "text/x-python",
   "name": "python",
   "nbconvert_exporter": "python",
   "pygments_lexer": "ipython3",
   "version": "3.8.8"
  },
  "vscode": {
   "interpreter": {
    "hash": "f77035ba219609a388e73903b6f1e854b82337349f20e479e0d536e2bb63af9a"
   }
  }
 },
 "nbformat": 4,
 "nbformat_minor": 2
}
